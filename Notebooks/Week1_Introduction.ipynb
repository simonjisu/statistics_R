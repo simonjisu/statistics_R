{
 "cells": [
  {
   "cell_type": "markdown",
   "metadata": {
    "collapsed": true
   },
   "source": [
    "# Introduction\n",
    "---\n",
    "\n",
    "왜 통계를 배워야 하는가?\n",
    "\n",
    "* 최적의(optimal) 상태를 데이터로부터 얻어내자!\n",
    "* Data Driven Decision making\n",
    "* ex) CDSS 의사들의 의사결정에 도움을 주는 시스템 \n",
    "\n",
    "통계학이란?\n",
    "\n",
    "* 실험으로 발견된 차이가 우연에 의해 예측된 차이보다 크다는 것을 증명\n",
    "* 비확증적 모델\n",
    "* 강의 추천: 류근관 교수님의 MOOC 통계학 강의\n"
   ]
  },
  {
   "cell_type": "markdown",
   "metadata": {},
   "source": [
    "## 기존과 현재의 통계학의 차이"
   ]
  },
  {
   "cell_type": "markdown",
   "metadata": {},
   "source": [
    "\n",
    "| 전통적인 통계학 | 현대의 통계학| \n",
    "| :- | :- |\n",
    "| 자연적으로 그 시대 상황 반영 | 수많은 데이터 속에서 정보를 얻어내는 것|\n",
    "| 보통 농업 분야에서의 데이터 (실험계획법-DOE) 등 | 빅데이터의 정의?|\n",
    "| 수식적인 증명과 수리적으로 정리된 알고리즘으로 소통 | 3V, 4V 등 정의는 많지만... timestamp 와 location 이 찍힌 data를 빅데이터라 생각|\n"
   ]
  },
  {
   "cell_type": "markdown",
   "metadata": {},
   "source": [
    "R 의 장점:\n",
    "\n",
    "* 무료, 빠름, 오픈소스\n",
    "* 시각화에 뛰어남\n",
    "    * ggplot2, ggvis, ggmap, shiny 등\n",
    "    * Interactive 한 plotting 이 대세 - 한스로슬링\n",
    "* 교육과 연구 표준 툴로 인정받는 중\n"
   ]
  },
  {
   "cell_type": "markdown",
   "metadata": {},
   "source": [
    "## 분석에 고려해야할 4가지\n"
   ]
  },
  {
   "cell_type": "markdown",
   "metadata": {},
   "source": [
    "1. 보정(Adjust)\n",
    "    * 다른 변수의 효과도 고려\n",
    "        * Unadjusted VS Adjusted\n",
    "    > 예) 점수에 대한 차이가 “반\" 때문인가? 아니면 “나이\" 때문인가? 만약 “나이\" 라는 변수를 빼고도 명확한 점수 차이가 있다면, 이는 “반” 때문이라고 얘기할 수 있다.\n",
    "    * Association does not imply causation. \n",
    "        * 높은 연관성이 원인을 이야기 하는 것은 아니다.\n",
    "        * 하지만, 보정후 연관성과 인과성에서 방향성을 찾을 수도 있다.\n",
    "    * 어떤 것을 보정할 것인가?\n",
    "        * 실제 어떤 변수를 보정할지 정하는 것은 매우 어려운 문제: 보통 도메인 지식을 가진 전문가가 인과관계를 판단.\n",
    "        * 보정 이후, 공변량을 통제함으로서 다른 불필요한 영향력을 제거 가능 (보통 인구 통계학적 정보를 adjust 변수로 둔다.)\n",
    "    * DAG(Directed Acyclic Graph): 방향성을 가진 비순환 구조 그래프\n",
    "2. 쪼개기(Faceting)\n",
    "    * 심슨의 역설\n",
    "    * 관심 가지는 변수로 쪼개보는 것을 추천\n",
    "3. 이상치(Outlier)\n",
    "    * 문제점: 이상치로 인해 추정하고자 하는 값이 너무 다르게 변할 수 있음\n",
    "    * y 축으로 너무 분포에 벗어나는 관측치: outlier\n",
    "    * x 축으로 너무 분포에 벗어나는 관측치: leverage point\n",
    "4. 결측치(NA)\n",
    "    * 결측치 존재시 분석이 되지 않을 때 있음\n",
    "    * 대체 imputation 방법: mean, regression, KNN 등등\n"
   ]
  },
  {
   "cell_type": "markdown",
   "metadata": {},
   "source": [
    "## 통계의 2가지 구분\n",
    "\n",
    "### 기술통계(Descriptive Statistics)\n",
    "\n",
    "* 목표: 수집한 데이터를 요약 및 묘사\n",
    "* 방법: 통계량 제시, 대표값 등\n",
    "* 주의: \n",
    "    * 더 나은 대표값이란?\n",
    "        * 평균, 중앙값, 절삭평균, 가중평균\n",
    "    * 이 외에 분산, 왜도, 첨도 등 다양한 통계량 존재\n",
    "        \n",
    "### 추론통계(Inference Statistics)\n",
    "\n",
    "* 목표: 수집한 데이터를 바탕으로 추론 및 예측\n",
    "* 방법: 주어진 자료로 전체를 예측\n",
    "* 주의: \n",
    "    * 수집한 자료 = 일부 자료(제한된 표본)\n",
    "    * 시간, 비용, 제도 한계 등 존재\n",
    "    * 타당한 표본을 뽑는 것이 중요\n",
    "        * SRS(Simple Random Sampling), 층화, 집락, 계통, PPS(Proportional to Population): 모집단 크기에 비례해서 추출\n",
    "\n",
    " "
   ]
  },
  {
   "cell_type": "markdown",
   "metadata": {},
   "source": [
    "### 신뢰구간\n",
    "* SD(Standard Deviation): 관찰값의 variability\n",
    "* SE(Standard Error): SD / sqrt(n) 통계량의 variability - 표본 평균의 변동량"
   ]
  }
 ],
 "metadata": {
  "kernelspec": {
   "display_name": "Python [conda env:anaconda]",
   "language": "python",
   "name": "conda-env-anaconda-py"
  },
  "language_info": {
   "codemirror_mode": {
    "name": "ipython",
    "version": 3
   },
   "file_extension": ".py",
   "mimetype": "text/x-python",
   "name": "python",
   "nbconvert_exporter": "python",
   "pygments_lexer": "ipython3",
   "version": "3.6.0"
  }
 },
 "nbformat": 4,
 "nbformat_minor": 2
}
